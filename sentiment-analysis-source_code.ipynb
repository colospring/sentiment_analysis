{
 "cells": [
  {
   "cell_type": "code",
   "execution_count": null,
   "metadata": {},
   "outputs": [],
   "source": [
    "# For this skeleton, you need to install torchtext, and optionally spacy. \n",
    "# It also uses pretrained word embeddings from glove.6B.100d which is around 850 MB. You can skip using it if you don't have enough \n",
    "# memory to work with. But training will be faster if you use it."
   ]
  },
  {
   "cell_type": "code",
   "execution_count": 1,
   "metadata": {},
   "outputs": [],
   "source": [
    "from torchtext import data\n",
    "from torchtext import datasets\n",
    "import torch\n",
    "import torch.nn as nn\n",
    "import torch.optim as optim\n",
    "import torch.nn.functional as F\n",
    "import time\n",
    "import nltk\n",
    "from nltk.corpus import stopwords\n",
    "import pandas as pd\n",
    "import numpy as np\n",
    "from collections import Counter\n",
    "from sklearn.model_selection import train_test_split\n",
    "from matplotlib import pyplot as plt\n",
    "from matplotlib.ticker import MaxNLocator"
   ]
  },
  {
   "cell_type": "code",
   "execution_count": null,
   "metadata": {},
   "outputs": [],
   "source": [
    "#### Section 1: Spacy (optional) ###\n",
    "# Uncomment this lines if you are using spacy\n",
    "# import spacy\n",
    "# nlp = spacy.load('en_core_web_sm')"
   ]
  },
  {
   "cell_type": "code",
   "execution_count": 4,
   "metadata": {},
   "outputs": [],
   "source": [
    "SEED = 1234\n",
    "\n",
    "torch.manual_seed(SEED)\n",
    "torch.backends.cudnn.deterministic = True"
   ]
  },
  {
   "cell_type": "code",
   "execution_count": 5,
   "metadata": {},
   "outputs": [
    {
     "data": {
      "text/plain": [
       "good    28807\n",
       "bad     15323\n",
       "ok       9630\n",
       "Name: sentiment, dtype: int64"
      ]
     },
     "execution_count": 5,
     "metadata": {},
     "output_type": "execute_result"
    }
   ],
   "source": [
    "text_train = pd.read_csv(r\"clean\\large-clean-train.csv\")\n",
    "text_train.head()\n",
    "text_train.sentiment.value_counts()"
   ]
  },
  {
   "cell_type": "code",
   "execution_count": 6,
   "metadata": {},
   "outputs": [
    {
     "data": {
      "text/plain": [
       "good    16193\n",
       "bad      8677\n",
       "ok       5370\n",
       "Name: sentiment, dtype: int64"
      ]
     },
     "execution_count": 6,
     "metadata": {},
     "output_type": "execute_result"
    }
   ],
   "source": [
    "text_val = pd.read_csv(r\"clean\\large-clean-val.csv\")\n",
    "text_val.head()\n",
    "text_val.sentiment.value_counts()"
   ]
  },
  {
   "cell_type": "code",
   "execution_count": 9,
   "metadata": {},
   "outputs": [],
   "source": [
    "text = pd.concat([text_train, text_val])"
   ]
  },
  {
   "cell_type": "code",
   "execution_count": 7,
   "metadata": {},
   "outputs": [],
   "source": [
    "#### Section 2: Tokenizer ###\n",
    "# create a tokenizer function\n",
    "def tokenizer(text): \n",
    "    # return a list of words. You may skip the stop words defined by spacy or nltk lib\n",
    "    stop_words = set(stopwords.words('english'))\n",
    "    nltk_tokens = nltk.word_tokenize(text)\n",
    "    filtered_sentence = [w for w in nltk_tokens if not w in stop_words]\n",
    "    return filtered_sentence"
   ]
  },
  {
   "cell_type": "code",
   "execution_count": 10,
   "metadata": {},
   "outputs": [
    {
     "name": "stdout",
     "output_type": "stream",
     "text": [
      "num_words before: 33956\n",
      "num_words after: 17440\n"
     ]
    }
   ],
   "source": [
    "counts = Counter()\n",
    "for index, row in text.iterrows():\n",
    "    counts.update(tokenizer(row['reviewText']))\n",
    "#deleting infrequent words\n",
    "print(\"num_words before:\",len(counts.keys()))\n",
    "for word in list(counts):\n",
    "    if counts[word] < 2:\n",
    "        del counts[word]\n",
    "print(\"num_words after:\",len(counts.keys()))"
   ]
  },
  {
   "cell_type": "code",
   "execution_count": 11,
   "metadata": {},
   "outputs": [],
   "source": [
    "def tokenizer(text): \n",
    "    # return a list of words. You may skip the stop words defined by spacy or nltk lib\n",
    "    stop_words = set(stopwords.words('english'))\n",
    "    nltk_tokens = nltk.word_tokenize(text)\n",
    "    filtered_sentence = [w for w in nltk_tokens if not w in stop_words and w in counts]\n",
    "    return filtered_sentence"
   ]
  },
  {
   "cell_type": "code",
   "execution_count": 12,
   "metadata": {
    "scrolled": true
   },
   "outputs": [
    {
     "name": "stderr",
     "output_type": "stream",
     "text": [
      "C:\\Users\\Liwei Liu\\Anaconda3\\lib\\site-packages\\torchtext\\data\\field.py:150: UserWarning: Field class will be retired soon and moved to torchtext.legacy. Please see the most recent release notes for further information.\n",
      "  warnings.warn('{} class will be retired soon and moved to torchtext.legacy. Please see the most recent release notes for further information.'.format(self.__class__.__name__), UserWarning)\n",
      "C:\\Users\\Liwei Liu\\Anaconda3\\lib\\site-packages\\torchtext\\data\\field.py:150: UserWarning: LabelField class will be retired soon and moved to torchtext.legacy. Please see the most recent release notes for further information.\n",
      "  warnings.warn('{} class will be retired soon and moved to torchtext.legacy. Please see the most recent release notes for further information.'.format(self.__class__.__name__), UserWarning)\n"
     ]
    }
   ],
   "source": [
    "TEXT = data.Field(tokenize = tokenizer, lower=True, include_lengths = True)\n",
    "LABEL = data.LabelField(dtype = torch.long)\n",
    "fields = {'reviewText': ('t', TEXT), 'sentiment': ('l', LABEL)}"
   ]
  },
  {
   "cell_type": "code",
   "execution_count": 35,
   "metadata": {},
   "outputs": [
    {
     "data": {
      "text/html": [
       "<div>\n",
       "<style scoped>\n",
       "    .dataframe tbody tr th:only-of-type {\n",
       "        vertical-align: middle;\n",
       "    }\n",
       "\n",
       "    .dataframe tbody tr th {\n",
       "        vertical-align: top;\n",
       "    }\n",
       "\n",
       "    .dataframe thead th {\n",
       "        text-align: right;\n",
       "    }\n",
       "</style>\n",
       "<table border=\"1\" class=\"dataframe\">\n",
       "  <thead>\n",
       "    <tr style=\"text-align: right;\">\n",
       "      <th></th>\n",
       "      <th>overall</th>\n",
       "      <th>reviewText</th>\n",
       "      <th>summary</th>\n",
       "      <th>vote</th>\n",
       "      <th>category</th>\n",
       "      <th>sentiment</th>\n",
       "    </tr>\n",
       "  </thead>\n",
       "  <tbody>\n",
       "    <tr>\n",
       "      <th>0</th>\n",
       "      <td>3</td>\n",
       "      <td>For a \"one size\" this fits reeeaally tight aro...</td>\n",
       "      <td>Did the job for Halloween</td>\n",
       "      <td>0</td>\n",
       "      <td>fashion</td>\n",
       "      <td>ok</td>\n",
       "    </tr>\n",
       "    <tr>\n",
       "      <th>1</th>\n",
       "      <td>2</td>\n",
       "      <td>The belt is fine but the color is way off!  Th...</td>\n",
       "      <td>Color is not as shown.</td>\n",
       "      <td>0</td>\n",
       "      <td>fashion</td>\n",
       "      <td>bad</td>\n",
       "    </tr>\n",
       "    <tr>\n",
       "      <th>2</th>\n",
       "      <td>5</td>\n",
       "      <td>Well built, solid product which is an attracti...</td>\n",
       "      <td>Solid product</td>\n",
       "      <td>0</td>\n",
       "      <td>beauty</td>\n",
       "      <td>good</td>\n",
       "    </tr>\n",
       "    <tr>\n",
       "      <th>3</th>\n",
       "      <td>5</td>\n",
       "      <td>love this body wash!  scent is sophisticated a...</td>\n",
       "      <td>love this body wash</td>\n",
       "      <td>0</td>\n",
       "      <td>beauty</td>\n",
       "      <td>good</td>\n",
       "    </tr>\n",
       "    <tr>\n",
       "      <th>4</th>\n",
       "      <td>1</td>\n",
       "      <td>No good for my washer. I will be returning pro...</td>\n",
       "      <td>One Star</td>\n",
       "      <td>0</td>\n",
       "      <td>appliance</td>\n",
       "      <td>bad</td>\n",
       "    </tr>\n",
       "  </tbody>\n",
       "</table>\n",
       "</div>"
      ],
      "text/plain": [
       "   overall                                         reviewText  \\\n",
       "0        3  For a \"one size\" this fits reeeaally tight aro...   \n",
       "1        2  The belt is fine but the color is way off!  Th...   \n",
       "2        5  Well built, solid product which is an attracti...   \n",
       "3        5  love this body wash!  scent is sophisticated a...   \n",
       "4        1  No good for my washer. I will be returning pro...   \n",
       "\n",
       "                     summary  vote   category sentiment  \n",
       "0  Did the job for Halloween     0    fashion        ok  \n",
       "1     Color is not as shown.     0    fashion       bad  \n",
       "2              Solid product     0     beauty      good  \n",
       "3        love this body wash     0     beauty      good  \n",
       "4                   One Star     0  appliance       bad  "
      ]
     },
     "execution_count": 35,
     "metadata": {},
     "output_type": "execute_result"
    }
   ],
   "source": [
    "# stratified sampling\n",
    "label = text.sentiment\n",
    "train_data, valid_data, y_train, y_val = train_test_split(text, label, test_size=0.33, stratify=label, random_state=42)\n",
    "train_data = train_data.reset_index(drop=True)\n",
    "valid_data = valid_data.reset_index(drop=True)\n",
    "train_data.to_csv(r'clean\\large-stratified-train.csv', index=False)\n",
    "valid_data.to_csv(r'clean\\large-stratified-val.csv', index=False)\n",
    "train_data.head()\n",
    "# train_data.sentiment.value_counts()/len(train_data)\n",
    "# valid_data.sentiment.value_counts()/len(valid_data)"
   ]
  },
  {
   "cell_type": "code",
   "execution_count": 13,
   "metadata": {},
   "outputs": [
    {
     "name": "stderr",
     "output_type": "stream",
     "text": [
      "C:\\Users\\Liwei Liu\\Anaconda3\\lib\\site-packages\\torchtext\\data\\example.py:68: UserWarning: Example class will be retired soon and moved to torchtext.legacy. Please see the most recent release notes for further information.\n",
      "  warnings.warn('Example class will be retired soon and moved to torchtext.legacy. Please see the most recent release notes for further information.', UserWarning)\n",
      "C:\\Users\\Liwei Liu\\Anaconda3\\lib\\site-packages\\torchtext\\data\\example.py:52: UserWarning: Example class will be retired soon and moved to torchtext.legacy. Please see the most recent release notes for further information.\n",
      "  warnings.warn('Example class will be retired soon and moved to torchtext.legacy. Please see the most recent release notes for further information.', UserWarning)\n"
     ]
    }
   ],
   "source": [
    "#### Section 3: Datasets ###\n",
    "# while you experiment, use the small datasets. Final training and evaluation needs to be done with large datasets. \n",
    "suffix = 'large-'\n",
    "# suffix = 'large-'\n",
    "dataFolder = 'clean' # keep all your data files in a single folder\n",
    "\n",
    "train_data, valid_data, test_data = data.TabularDataset.splits(\n",
    "                                        path = dataFolder, \n",
    "                                        train = suffix + 'stratified-train.csv', # json file\n",
    "                                        validation = suffix + 'stratified-val.csv',# json file\n",
    "                                        test = suffix + 'stratified-val.csv',# json file\n",
    "                                        format = 'csv', # json file\n",
    "                                        fields = fields\n",
    ")"
   ]
  },
  {
   "cell_type": "code",
   "execution_count": 14,
   "metadata": {},
   "outputs": [
    {
     "name": "stdout",
     "output_type": "stream",
     "text": [
      "Number of training examples: 56280\n",
      "Number of testing examples: 27720\n",
      "{'t': ['for', '``', 'one', 'size', \"''\", 'fits', 'reeeaally', 'tight', 'around', 'thigh', '.', 'but', 'maybe', 'i', \"'m\", 'fat', ',', 'oh', 'well', '!'], 'l': 'ok'}\n"
     ]
    }
   ],
   "source": [
    "#### Section 4: Vocabulary ###\n",
    "\n",
    "# You can use GloVe vocabulary to train your model faster towards convergence or build up your own embeddings. \n",
    "# If you are not using the GloVe embeddings, you will need to comment out the embedding weight transfer to model in \n",
    "# Section 9\n",
    "\n",
    "MAX_VOCAB_SIZE = 25000\n",
    "\n",
    "#Local vocabulary\n",
    "# TEXT.build_vocab(train_data, max_size = MAX_VOCAB_SIZE)\n",
    "# LABEL.build_vocab(train_data)\n",
    "\n",
    "#GloVe vocabulary\n",
    "TEXT.build_vocab(train_data, \n",
    "                 max_size = MAX_VOCAB_SIZE, \n",
    "                 vectors = \"glove.6B.100d\", \n",
    "                 unk_init = torch.Tensor.normal_)\n",
    "LABEL.build_vocab(train_data)\n",
    "\n",
    "# Check if it worked\n",
    "print(f'Number of training examples: {len(train_data)}')\n",
    "print(f'Number of testing examples: {len(valid_data)}')\n",
    "print(vars(train_data[0]))"
   ]
  },
  {
   "cell_type": "code",
   "execution_count": 15,
   "metadata": {},
   "outputs": [
    {
     "name": "stdout",
     "output_type": "stream",
     "text": [
      "defaultdict(None, {'good': 0, 'bad': 1, 'ok': 2})\n"
     ]
    }
   ],
   "source": [
    "print(LABEL.vocab.stoi)"
   ]
  },
  {
   "cell_type": "code",
   "execution_count": 16,
   "metadata": {},
   "outputs": [
    {
     "name": "stderr",
     "output_type": "stream",
     "text": [
      "C:\\Users\\Liwei Liu\\Anaconda3\\lib\\site-packages\\torch\\cuda\\__init__.py:52: UserWarning: CUDA initialization: Found no NVIDIA driver on your system. Please check that you have an NVIDIA GPU and installed a driver from http://www.nvidia.com/Download/index.aspx (Triggered internally at  ..\\c10\\cuda\\CUDAFunctions.cpp:100.)\n",
      "  return torch._C._cuda_getDeviceCount() > 0\n",
      "C:\\Users\\Liwei Liu\\Anaconda3\\lib\\site-packages\\torchtext\\data\\iterator.py:48: UserWarning: BucketIterator class will be retired soon and moved to torchtext.legacy. Please see the most recent release notes for further information.\n",
      "  warnings.warn('{} class will be retired soon and moved to torchtext.legacy. Please see the most recent release notes for further information.'.format(self.__class__.__name__), UserWarning)\n"
     ]
    }
   ],
   "source": [
    "#### Section 5: Iterators ###\n",
    "# Iterators organizes datasets into batches and feeds them into the model. In this skeletion, we use packed padded sequence\n",
    "# to make sure that all the input data points are of the same size and they do not incur unnecessary computation. Read more \n",
    "# about packed padded sequence here: https://stackoverflow.com/questions/51030782/why-do-we-pack-the-sequences-in-pytorch\n",
    "# For that, we need to sort the samples in each batch in decreasing order of number of words.\n",
    "\n",
    "\n",
    "BATCH_SIZE = 16\n",
    "\n",
    "device = torch.device('cuda' if torch.cuda.is_available() else 'cpu')\n",
    "\n",
    "train_iterator, valid_iterator, test_iterator = data.BucketIterator.splits(\n",
    "    (train_data, valid_data, test_data), \n",
    "    sort = False, \n",
    "    batch_size = BATCH_SIZE,\n",
    "    sort_within_batch = True,\n",
    "    sort_key = lambda x: len(x.t),\n",
    "    device = device)"
   ]
  },
  {
   "cell_type": "code",
   "execution_count": 17,
   "metadata": {},
   "outputs": [],
   "source": [
    "#### Section 6: Vanilla RNN ###\n",
    "\n",
    "class VanillaRNN(nn.Module):\n",
    "    def __init__(self, vocab_size, embedding_dim, hidden_dim, output_dim, n_layers, \n",
    "                 bidirectional, dropout, pad_idx):\n",
    "        \n",
    "        super().__init__()\n",
    "        \n",
    "        self.embedding = nn.Embedding(vocab_size, embedding_dim, padding_idx = pad_idx)\n",
    "        self.dropout = nn.Dropout(p=dropout)\n",
    "        \n",
    "        # Add your network's trainable layers here.\n",
    "        # Defining some parameters\n",
    "        self.hidden_dim = hidden_dim\n",
    "        self.n_layers = n_layers\n",
    "        \n",
    "        # Defining the layers\n",
    "        # RNN Layer\n",
    "        self.rnn = nn.RNN(embedding_dim, hidden_dim, n_layers, batch_first=True, bidirectional=bidirectional)\n",
    "        # Fully connected layer\n",
    "        self.fc = nn.Linear(hidden_dim, output_dim)\n",
    "       \n",
    "        \n",
    "    def forward(self, text, text_lengths):\n",
    "        \n",
    "        #text = [sent len, batch size]\n",
    "        text = text.transpose(0, 1)\n",
    "        \n",
    "        embedded = self.dropout(self.embedding(text))\n",
    "        embedded = embedded.transpose(0, 1)\n",
    "        \n",
    "        #embedded = [sent len, batch size, emb dim]\n",
    "        \n",
    "        #pack sequence. Clamping the lengths to avoid errors in some bugs\n",
    "        packed_embedded = nn.utils.rnn.pack_padded_sequence(embedded, text_lengths.clamp(min=1, max=50))\n",
    "        \n",
    "        # now packed_embedded is the input to your model. You can do whatever you want to do from this point\n",
    "        # Initializing hidden state for first input using method defined below\n",
    "        hidden = self.init_hidden(BATCH_SIZE)\n",
    "        \n",
    "        # Passing in the input and hidden state into the model and obtaining outputs\n",
    "        out, hidden = self.rnn(packed_embedded, hidden)\n",
    "        \n",
    "        # Reshaping the outputs such that it can be fit into the fully connected layer\n",
    "        unpacked, unpacked_len = torch.nn.utils.rnn.pad_packed_sequence(out, batch_first=True)\n",
    "#         out = unpacked.contiguous().view(-1, self.hidden_dim)\n",
    "        out=unpacked[:, -1, :]\n",
    "        out = self.fc(out)\n",
    "        \n",
    "        return out\n",
    "    \n",
    "    def init_hidden(self, batch_size):\n",
    "        hidden = torch.zeros(self.n_layers, batch_size, self.hidden_dim)\n",
    "        return hidden"
   ]
  },
  {
   "cell_type": "code",
   "execution_count": 18,
   "metadata": {},
   "outputs": [],
   "source": [
    "#### Section 7: Advanced Model ###\n",
    "\n",
    "class AdvancedModel(nn.Module):\n",
    "    def __init__(self, vocab_size, embedding_dim, hidden_dim, output_dim, n_layers, \n",
    "                 bidirectional, dropout, pad_idx):\n",
    "        \n",
    "        super().__init__()\n",
    "        \n",
    "        self.embedding = nn.Embedding(vocab_size, embedding_dim, padding_idx = pad_idx)\n",
    "        \n",
    "        # Add your network's trainable layers here.\n",
    "        # Define some parameters\n",
    "        self.output_dim = output_dim\n",
    "        self.n_layers = n_layers\n",
    "        self.hidden_dim = hidden_dim\n",
    "        \n",
    "        # Define layers\n",
    "        self.lstm = nn.LSTM(embedding_dim, hidden_dim, n_layers, bidirectional=bidirectional, batch_first=True)\n",
    "        self.dropout = nn.Dropout(dropout)\n",
    "        self.fc = nn.Linear(hidden_dim, output_dim)\n",
    "        self.sigmoid = nn.Sigmoid()\n",
    "    \n",
    "        \n",
    "    def forward(self, text, text_lengths):\n",
    "        \n",
    "        #text = [sent len, batch size]\n",
    "        text = text.transpose(0, 1)\n",
    "        embedded = self.dropout(self.embedding(text))\n",
    "        embedded = embedded.transpose(0, 1)\n",
    "        #embedded = [sent len, batch size, emb dim]\n",
    "        \n",
    "        #pack sequence. Clambing the lengths to avoid errors in some bugs\n",
    "        packed_embedded = nn.utils.rnn.pack_padded_sequence(embedded, text_lengths.clamp(min=1, max=50))\n",
    "        \n",
    "        # now packed_embedded is the input to your model. You can do whatever you want to do from this point\n",
    "        # Initializing hidden state for first input using method defined below\n",
    "#         hidden = self.init_hidden(BATCH_SIZE)\n",
    "        lstm_out, hidden = self.lstm(packed_embedded)\n",
    "        \n",
    "        unpacked, unpacked_len = torch.nn.utils.rnn.pad_packed_sequence(lstm_out, batch_first=True)\n",
    "        lstm_out=unpacked[:, -1, :]\n",
    "        \n",
    "        out = self.fc(lstm_out)\n",
    "        out = self.sigmoid(out)\n",
    "\n",
    "        return out\n",
    "    \n",
    "#     def init_hidden(self, batch_size):\n",
    "#         weight = next(self.parameters()).data\n",
    "#         hidden = (weight.new(self.n_layers, batch_size, self.hidden_dim).zero_().to(device),\n",
    "#                       weight.new(self.n_layers, batch_size, self.hidden_dim).zero_().to(device))\n",
    "#         return hidden"
   ]
  },
  {
   "cell_type": "code",
   "execution_count": 19,
   "metadata": {},
   "outputs": [],
   "source": [
    "#### Section 8: Create your models ###\n",
    "INPUT_DIM = len(TEXT.vocab)\n",
    "EMBEDDING_DIM = 100\n",
    "HIDDEN_DIM = 400\n",
    "OUTPUT_DIM = len(LABEL.vocab)\n",
    "N_LAYERS = 1\n",
    "BIDIRECTIONAL = False\n",
    "DROPOUT = 0.5\n",
    "PAD_IDX = TEXT.vocab.stoi[TEXT.pad_token]"
   ]
  },
  {
   "cell_type": "code",
   "execution_count": 20,
   "metadata": {},
   "outputs": [
    {
     "data": {
      "text/plain": [
       "VanillaRNN(\n",
       "  (embedding): Embedding(13107, 100, padding_idx=1)\n",
       "  (dropout): Dropout(p=0.5, inplace=False)\n",
       "  (rnn): RNN(100, 400, batch_first=True)\n",
       "  (fc): Linear(in_features=400, out_features=3, bias=True)\n",
       ")"
      ]
     },
     "execution_count": 20,
     "metadata": {},
     "output_type": "execute_result"
    }
   ],
   "source": [
    "# Instantiate the model with hyperparameters\n",
    "model = VanillaRNN(vocab_size=INPUT_DIM, embedding_dim=EMBEDDING_DIM, output_dim=OUTPUT_DIM, hidden_dim=HIDDEN_DIM, \n",
    "                   n_layers=N_LAYERS, dropout=DROPOUT, bidirectional=False, pad_idx=PAD_IDX)\n",
    "# We'll also set the model to the device that we defined earlier (default is CPU)\n",
    "model.to(device)"
   ]
  },
  {
   "cell_type": "code",
   "execution_count": 31,
   "metadata": {},
   "outputs": [
    {
     "data": {
      "text/plain": [
       "AdvancedModel(\n",
       "  (embedding): Embedding(13107, 100, padding_idx=1)\n",
       "  (lstm): LSTM(100, 400, batch_first=True)\n",
       "  (dropout): Dropout(p=0.5, inplace=False)\n",
       "  (fc): Linear(in_features=400, out_features=3, bias=True)\n",
       "  (sigmoid): Sigmoid()\n",
       ")"
      ]
     },
     "execution_count": 31,
     "metadata": {},
     "output_type": "execute_result"
    }
   ],
   "source": [
    "# Instantiate the advanced model with hyperparameters\n",
    "model_adv = AdvancedModel(vocab_size=INPUT_DIM, embedding_dim=EMBEDDING_DIM, output_dim=OUTPUT_DIM, hidden_dim=HIDDEN_DIM, \n",
    "                   n_layers=N_LAYERS, dropout=DROPOUT, bidirectional=False, pad_idx=PAD_IDX)\n",
    "# We'll also set the advanced model to the device that we defined earlier (default is CPU)\n",
    "model_adv.to(device)"
   ]
  },
  {
   "cell_type": "code",
   "execution_count": 32,
   "metadata": {},
   "outputs": [
    {
     "data": {
      "text/plain": [
       "tensor([[-0.1117, -0.4966,  0.1631,  ...,  1.2647, -0.2753, -0.1325],\n",
       "        [-0.8555, -0.7208,  1.3755,  ...,  0.0825, -1.1314,  0.3997],\n",
       "        [-0.3398,  0.2094,  0.4635,  ..., -0.2339,  0.4730, -0.0288],\n",
       "        ...,\n",
       "        [-0.5166, -0.3016, -0.1821,  ...,  0.2555, -0.0826,  0.2384],\n",
       "        [-0.1842, -0.2294,  0.0790,  ...,  0.3590,  0.0523,  0.1714],\n",
       "        [-0.8903, -0.6907,  0.7263,  ...,  0.0038,  0.0557, -1.6627]])"
      ]
     },
     "execution_count": 32,
     "metadata": {},
     "output_type": "execute_result"
    }
   ],
   "source": [
    "#### Section 9: Transfer pretrained weights for word embeddings from GloVe ###\n",
    "# Must be commented out if you are not using GloVe embeddings\n",
    "\n",
    "'''\n",
    "use model for VanillaRNN\n",
    "use model_adv for LSTM\n",
    "'''\n",
    "\n",
    "pretrained_embeddings = TEXT.vocab.vectors\n",
    "# model.embedding.weight.data.copy_(pretrained_embeddings)\n",
    "model_adv.embedding.weight.data.copy_(pretrained_embeddings)"
   ]
  },
  {
   "cell_type": "code",
   "execution_count": 33,
   "metadata": {},
   "outputs": [],
   "source": [
    "UNK_IDX = TEXT.vocab.stoi[TEXT.unk_token]\n",
    "\n",
    "'''\n",
    "use model for VanillaRNN\n",
    "use model_adv for LSTM\n",
    "'''\n",
    "\n",
    "model_adv.embedding.weight.data[UNK_IDX] = torch.zeros(EMBEDDING_DIM)\n",
    "model_adv.embedding.weight.data[PAD_IDX] = torch.zeros(EMBEDDING_DIM)\n",
    "# model.embedding.weight.data[UNK_IDX] = torch.zeros(EMBEDDING_DIM)\n",
    "# model.embedding.weight.data[PAD_IDX] = torch.zeros(EMBEDDING_DIM)"
   ]
  },
  {
   "cell_type": "code",
   "execution_count": 34,
   "metadata": {},
   "outputs": [],
   "source": [
    "#### Section 10: Optimizer and Loss \n",
    "# Feel free to use any you want\n",
    "\n",
    "'''\n",
    "use model for VanillaRNN\n",
    "use model_adv for LSTM\n",
    "'''\n",
    "\n",
    "lr=0.001\n",
    "optimizer = optim.Adam(model_adv.parameters(), lr=lr)\n",
    "# optimizer = optim.Adam(model.parameters(), lr=lr)\n",
    "\n",
    "model_adv = model_adv.to(device)\n",
    "# model = model.to(device)\n",
    "\n",
    "\n",
    "# Define Loss, Optimizer\n",
    "criterion = nn.CrossEntropyLoss()\n",
    "\n",
    "criterion = criterion.to(device)"
   ]
  },
  {
   "cell_type": "code",
   "execution_count": 25,
   "metadata": {},
   "outputs": [],
   "source": [
    "def accuracy(preds, y):\n",
    "    \"\"\"\n",
    "    Returns accuracy per batch, i.e. if you get 8/10 right, this returns 0.8, NOT 8\n",
    "    \"\"\"\n",
    "    predictedLabel = torch.argmax(torch.exp(preds), dim=1)\n",
    "    correct = (predictedLabel == y).float() #convert into float for division \n",
    "    acc = correct.sum() / len(correct)\n",
    "    return acc"
   ]
  },
  {
   "cell_type": "code",
   "execution_count": 26,
   "metadata": {},
   "outputs": [],
   "source": [
    "#### Section 11: Training process\n",
    "# Feel free to change\n",
    "def train(model, iterator, optimizer, criterion):\n",
    "    \n",
    "    epoch_loss = 0\n",
    "    epoch_acc = 0\n",
    "    \n",
    "    model.train()\n",
    "    \n",
    "    for batch in iterator:\n",
    "        \n",
    "        optimizer.zero_grad()\n",
    "        \n",
    "        text, text_lengths = batch.t\n",
    "        \n",
    "        if text_lengths.shape[0]==BATCH_SIZE:\n",
    "        \n",
    "            predictions = model(text, text_lengths).squeeze(1)\n",
    "        \n",
    "            loss = criterion(predictions, batch.l)\n",
    "        \n",
    "            acc = accuracy(predictions, batch.l)\n",
    "        \n",
    "            loss.backward()\n",
    "#             for name, parms in model.named_parameters(): \n",
    "#                 print('-->name:', name, '-->grad_requirs:',parms.requires_grad, ' -->grad_value:',parms.grad)\n",
    "        \n",
    "            optimizer.step()\n",
    "        \n",
    "            epoch_loss += loss.item()\n",
    "            epoch_acc += acc.item()\n",
    "        \n",
    "    return epoch_loss / len(iterator), epoch_acc / len(iterator)"
   ]
  },
  {
   "cell_type": "code",
   "execution_count": 27,
   "metadata": {},
   "outputs": [],
   "source": [
    "#### Section 11: Evaluation process\n",
    "# Feel free to change\n",
    "def evaluate(model, iterator, criterion):\n",
    "    \n",
    "    epoch_loss = 0\n",
    "    epoch_acc = 0\n",
    "    \n",
    "    model.eval()\n",
    "    \n",
    "    with torch.no_grad():\n",
    "    \n",
    "        for batch in iterator:\n",
    "\n",
    "            text, text_lengths = batch.t\n",
    "            if text_lengths.shape[0]==BATCH_SIZE:\n",
    "            \n",
    "                predictions = model(text, text_lengths).squeeze(1)\n",
    "            \n",
    "                loss = criterion(predictions, batch.l)\n",
    "            \n",
    "                acc = accuracy(predictions, batch.l)\n",
    "\n",
    "                epoch_loss += loss.item()\n",
    "                epoch_acc += acc.item()\n",
    "        \n",
    "    return epoch_loss / len(iterator), epoch_acc / len(iterator)"
   ]
  },
  {
   "cell_type": "code",
   "execution_count": 28,
   "metadata": {},
   "outputs": [],
   "source": [
    "def epoch_time(start_time, end_time):\n",
    "    elapsed_time = end_time - start_time\n",
    "    elapsed_mins = int(elapsed_time / 60)\n",
    "    elapsed_secs = int(elapsed_time - (elapsed_mins * 60))\n",
    "    return elapsed_mins, elapsed_secs"
   ]
  },
  {
   "cell_type": "code",
   "execution_count": 80,
   "metadata": {
    "scrolled": true
   },
   "outputs": [
    {
     "name": "stdout",
     "output_type": "stream",
     "text": [
      "Epoch: 01 | Epoch Time: 2m 18s\n",
      "\tTrain Loss: 1.001 | Train Acc: 52.57%\n",
      "\t Val. Loss: 1.080 |  Val. Acc: 46.97%\n",
      "best validation loss:  1.0797648636578001\n",
      "Epoch: 02 | Epoch Time: 2m 59s\n",
      "\tTrain Loss: 0.862 | Train Acc: 62.08%\n",
      "\t Val. Loss: 1.003 |  Val. Acc: 65.17%\n",
      "best validation loss:  1.0029821105288483\n",
      "Epoch: 03 | Epoch Time: 3m 11s\n",
      "\tTrain Loss: 0.828 | Train Acc: 63.97%\n",
      "\t Val. Loss: 1.157 |  Val. Acc: 58.72%\n",
      "best validation loss:  1.0029821105288483\n",
      "Epoch: 04 | Epoch Time: 3m 16s\n",
      "\tTrain Loss: 0.763 | Train Acc: 67.17%\n",
      "\t Val. Loss: 0.700 |  Val. Acc: 70.07%\n",
      "best validation loss:  0.6998336655396776\n",
      "Epoch: 05 | Epoch Time: 3m 21s\n",
      "\tTrain Loss: 0.695 | Train Acc: 69.95%\n",
      "\t Val. Loss: 0.677 |  Val. Acc: 70.61%\n",
      "best validation loss:  0.6774654293156606\n",
      "Epoch: 06 | Epoch Time: 3m 20s\n",
      "\tTrain Loss: 0.676 | Train Acc: 70.49%\n",
      "\t Val. Loss: 0.694 |  Val. Acc: 70.19%\n",
      "best validation loss:  0.6774654293156606\n",
      "Epoch: 07 | Epoch Time: 3m 18s\n",
      "\tTrain Loss: 0.667 | Train Acc: 70.88%\n",
      "\t Val. Loss: 0.706 |  Val. Acc: 69.35%\n",
      "best validation loss:  0.6774654293156606\n",
      "Epoch: 08 | Epoch Time: 3m 19s\n",
      "\tTrain Loss: 0.670 | Train Acc: 70.97%\n",
      "\t Val. Loss: 0.679 |  Val. Acc: 70.10%\n",
      "best validation loss:  0.6774654293156606\n",
      "Epoch: 09 | Epoch Time: 3m 19s\n",
      "\tTrain Loss: 0.647 | Train Acc: 71.84%\n",
      "\t Val. Loss: 0.678 |  Val. Acc: 70.57%\n",
      "best validation loss:  0.6774654293156606\n",
      "Epoch: 10 | Epoch Time: 3m 20s\n",
      "\tTrain Loss: 0.647 | Train Acc: 71.60%\n",
      "\t Val. Loss: 0.681 |  Val. Acc: 68.36%\n",
      "best validation loss:  0.6774654293156606\n",
      "Epoch: 11 | Epoch Time: 3m 19s\n",
      "\tTrain Loss: 0.640 | Train Acc: 71.92%\n",
      "\t Val. Loss: 0.702 |  Val. Acc: 70.21%\n",
      "best validation loss:  0.6774654293156606\n",
      "Epoch: 12 | Epoch Time: 3m 20s\n",
      "\tTrain Loss: 0.655 | Train Acc: 71.41%\n",
      "\t Val. Loss: 0.687 |  Val. Acc: 69.22%\n",
      "best validation loss:  0.6774654293156606\n",
      "Epoch: 13 | Epoch Time: 3m 19s\n",
      "\tTrain Loss: 0.635 | Train Acc: 72.15%\n",
      "\t Val. Loss: 0.675 |  Val. Acc: 70.97%\n",
      "best validation loss:  0.6748419412112415\n",
      "Epoch: 14 | Epoch Time: 3m 19s\n",
      "\tTrain Loss: 0.628 | Train Acc: 72.48%\n",
      "\t Val. Loss: 0.669 |  Val. Acc: 71.26%\n",
      "best validation loss:  0.6689728506369461\n",
      "Epoch: 15 | Epoch Time: 3m 20s\n",
      "\tTrain Loss: 0.629 | Train Acc: 72.53%\n",
      "\t Val. Loss: 0.669 |  Val. Acc: 71.04%\n",
      "best validation loss:  0.6688506502638782\n",
      "Epoch: 16 | Epoch Time: 3m 19s\n",
      "\tTrain Loss: 0.629 | Train Acc: 72.59%\n",
      "\t Val. Loss: 0.689 |  Val. Acc: 69.62%\n",
      "best validation loss:  0.6688506502638782\n",
      "Epoch: 17 | Epoch Time: 3m 19s\n",
      "\tTrain Loss: 0.630 | Train Acc: 72.63%\n",
      "\t Val. Loss: 0.702 |  Val. Acc: 69.85%\n",
      "best validation loss:  0.6688506502638782\n",
      "Epoch: 18 | Epoch Time: 3m 19s\n",
      "\tTrain Loss: 0.637 | Train Acc: 72.21%\n",
      "\t Val. Loss: 0.692 |  Val. Acc: 69.06%\n",
      "best validation loss:  0.6688506502638782\n",
      "Epoch: 19 | Epoch Time: 3m 26s\n",
      "\tTrain Loss: 0.631 | Train Acc: 72.58%\n",
      "\t Val. Loss: 0.703 |  Val. Acc: 70.64%\n",
      "best validation loss:  0.6688506502638782\n",
      "Epoch: 20 | Epoch Time: 3m 19s\n",
      "\tTrain Loss: 0.630 | Train Acc: 72.44%\n",
      "\t Val. Loss: 0.679 |  Val. Acc: 69.70%\n",
      "best validation loss:  0.6688506502638782\n",
      "Epoch: 21 | Epoch Time: 3m 18s\n",
      "\tTrain Loss: 0.611 | Train Acc: 73.27%\n",
      "\t Val. Loss: 0.686 |  Val. Acc: 71.36%\n",
      "best validation loss:  0.6688506502638782\n",
      "Epoch: 22 | Epoch Time: 3m 18s\n",
      "\tTrain Loss: 0.620 | Train Acc: 73.34%\n",
      "\t Val. Loss: 0.675 |  Val. Acc: 69.83%\n",
      "best validation loss:  0.6688506502638782\n",
      "Epoch: 23 | Epoch Time: 3m 19s\n",
      "\tTrain Loss: 0.610 | Train Acc: 73.40%\n",
      "\t Val. Loss: 0.663 |  Val. Acc: 71.12%\n",
      "best validation loss:  0.6631213795099208\n",
      "Epoch: 24 | Epoch Time: 3m 18s\n",
      "\tTrain Loss: 0.612 | Train Acc: 73.38%\n",
      "\t Val. Loss: 0.666 |  Val. Acc: 71.42%\n",
      "best validation loss:  0.6631213795099208\n",
      "Epoch: 25 | Epoch Time: 3m 18s\n",
      "\tTrain Loss: 0.605 | Train Acc: 73.89%\n",
      "\t Val. Loss: 0.679 |  Val. Acc: 70.16%\n",
      "best validation loss:  0.6631213795099208\n",
      "Epoch: 26 | Epoch Time: 3m 16s\n",
      "\tTrain Loss: 0.603 | Train Acc: 73.88%\n",
      "\t Val. Loss: 0.689 |  Val. Acc: 70.82%\n",
      "best validation loss:  0.6631213795099208\n",
      "Epoch: 27 | Epoch Time: 3m 16s\n",
      "\tTrain Loss: 0.608 | Train Acc: 73.87%\n",
      "\t Val. Loss: 0.675 |  Val. Acc: 70.75%\n",
      "best validation loss:  0.6631213795099208\n",
      "Epoch: 28 | Epoch Time: 3m 17s\n",
      "\tTrain Loss: 0.611 | Train Acc: 73.71%\n",
      "\t Val. Loss: 0.716 |  Val. Acc: 69.54%\n",
      "best validation loss:  0.6631213795099208\n",
      "Epoch: 29 | Epoch Time: 3m 18s\n",
      "\tTrain Loss: 0.618 | Train Acc: 73.19%\n",
      "\t Val. Loss: 0.720 |  Val. Acc: 69.36%\n",
      "best validation loss:  0.6631213795099208\n",
      "Epoch: 30 | Epoch Time: 3m 18s\n",
      "\tTrain Loss: 0.621 | Train Acc: 73.17%\n",
      "\t Val. Loss: 0.739 |  Val. Acc: 70.88%\n",
      "best validation loss:  0.6631213795099208\n"
     ]
    }
   ],
   "source": [
    "#### Section 12: Train\n",
    "\n",
    "# You need to change this name for each model.\n",
    "modelOutputName = 'vanilla-rnn.pt'\n",
    "\n",
    "N_EPOCHS = 30\n",
    "\n",
    "best_valid_loss = float('inf')\n",
    "\n",
    "epochs = []\n",
    "train_accuracy = []\n",
    "valid_accuracy = []\n",
    "\n",
    "for epoch in range(N_EPOCHS):\n",
    "\n",
    "    start_time = time.time()\n",
    "    \n",
    "    train_loss, train_acc = train(model, train_iterator, optimizer, criterion)\n",
    "    valid_loss, valid_acc = evaluate(model, valid_iterator, criterion)\n",
    "    \n",
    "    epochs.append(epoch)\n",
    "    train_accuracy.append(train_acc)\n",
    "    valid_accuracy.append(valid_acc)\n",
    "    \n",
    "    end_time = time.time()\n",
    "\n",
    "    epoch_mins, epoch_secs = epoch_time(start_time, end_time)\n",
    "    \n",
    "    if valid_loss < best_valid_loss:\n",
    "        best_valid_loss = valid_loss\n",
    "        torch.save(model.state_dict(), modelOutputName)\n",
    "    \n",
    "    print(f'Epoch: {epoch+1:02} | Epoch Time: {epoch_mins}m {epoch_secs}s')\n",
    "    print(f'\\tTrain Loss: {train_loss:.3f} | Train Acc: {train_acc*100:.2f}%')\n",
    "    print(f'\\t Val. Loss: {valid_loss:.3f} |  Val. Acc: {valid_acc*100:.2f}%')\n",
    "    print('best validation loss: ', best_valid_loss)"
   ]
  },
  {
   "cell_type": "code",
   "execution_count": 52,
   "metadata": {
    "scrolled": true
   },
   "outputs": [
    {
     "name": "stderr",
     "output_type": "stream",
     "text": [
      "C:\\Users\\Liwei Liu\\Anaconda3\\lib\\site-packages\\torchtext\\data\\batch.py:23: UserWarning: Batch class will be retired soon and moved to torchtext.legacy. Please see the most recent release notes for further information.\n",
      "  warnings.warn('{} class will be retired soon and moved to torchtext.legacy. Please see the most recent release notes for further information.'.format(self.__class__.__name__), UserWarning)\n"
     ]
    },
    {
     "name": "stdout",
     "output_type": "stream",
     "text": [
      "Epoch: 01 | Epoch Time: 5m 51s\n",
      "\tTrain Loss: 0.921 | Train Acc: 62.61%\n",
      "\t Val. Loss: 0.837 |  Val. Acc: 70.52%\n",
      "best validation loss:  0.8371590868764989\n",
      "Epoch: 02 | Epoch Time: 6m 28s\n",
      "\tTrain Loss: 0.824 | Train Acc: 71.51%\n",
      "\t Val. Loss: 0.801 |  Val. Acc: 73.63%\n",
      "best validation loss:  0.8009010730144679\n",
      "Epoch: 03 | Epoch Time: 6m 42s\n",
      "\tTrain Loss: 0.798 | Train Acc: 73.90%\n",
      "\t Val. Loss: 0.789 |  Val. Acc: 74.81%\n",
      "best validation loss:  0.7887236277835602\n",
      "Epoch: 04 | Epoch Time: 6m 49s\n",
      "\tTrain Loss: 0.783 | Train Acc: 75.42%\n",
      "\t Val. Loss: 0.787 |  Val. Acc: 74.82%\n",
      "best validation loss:  0.7866121731737206\n",
      "Epoch: 05 | Epoch Time: 6m 51s\n",
      "\tTrain Loss: 0.775 | Train Acc: 76.19%\n",
      "\t Val. Loss: 0.783 |  Val. Acc: 75.16%\n",
      "best validation loss:  0.7831171196248582\n",
      "Epoch: 06 | Epoch Time: 6m 52s\n",
      "\tTrain Loss: 0.767 | Train Acc: 77.15%\n",
      "\t Val. Loss: 0.780 |  Val. Acc: 75.54%\n",
      "best validation loss:  0.7804512875106248\n",
      "Epoch: 07 | Epoch Time: 6m 52s\n",
      "\tTrain Loss: 0.758 | Train Acc: 78.09%\n",
      "\t Val. Loss: 0.780 |  Val. Acc: 75.66%\n",
      "best validation loss:  0.7799964691955645\n",
      "Epoch: 08 | Epoch Time: 6m 55s\n",
      "\tTrain Loss: 0.753 | Train Acc: 78.68%\n",
      "\t Val. Loss: 0.779 |  Val. Acc: 75.72%\n",
      "best validation loss:  0.778671759198459\n",
      "Epoch: 09 | Epoch Time: 6m 53s\n",
      "\tTrain Loss: 0.747 | Train Acc: 79.28%\n",
      "\t Val. Loss: 0.779 |  Val. Acc: 75.67%\n",
      "best validation loss:  0.778671759198459\n",
      "Epoch: 10 | Epoch Time: 6m 48s\n",
      "\tTrain Loss: 0.741 | Train Acc: 79.96%\n",
      "\t Val. Loss: 0.781 |  Val. Acc: 75.60%\n",
      "best validation loss:  0.778671759198459\n",
      "Epoch: 11 | Epoch Time: 6m 48s\n",
      "\tTrain Loss: 0.739 | Train Acc: 80.19%\n",
      "\t Val. Loss: 0.776 |  Val. Acc: 76.09%\n",
      "best validation loss:  0.7762246783661554\n",
      "Epoch: 12 | Epoch Time: 6m 54s\n",
      "\tTrain Loss: 0.734 | Train Acc: 80.86%\n",
      "\t Val. Loss: 0.777 |  Val. Acc: 76.06%\n",
      "best validation loss:  0.7762246783661554\n",
      "Epoch: 13 | Epoch Time: 6m 52s\n",
      "\tTrain Loss: 0.731 | Train Acc: 81.00%\n",
      "\t Val. Loss: 0.778 |  Val. Acc: 75.91%\n",
      "best validation loss:  0.7762246783661554\n",
      "Epoch: 14 | Epoch Time: 6m 48s\n",
      "\tTrain Loss: 0.728 | Train Acc: 81.35%\n",
      "\t Val. Loss: 0.777 |  Val. Acc: 76.16%\n",
      "best validation loss:  0.7762246783661554\n",
      "Epoch: 15 | Epoch Time: 6m 52s\n",
      "\tTrain Loss: 0.728 | Train Acc: 81.44%\n",
      "\t Val. Loss: 0.778 |  Val. Acc: 76.00%\n",
      "best validation loss:  0.7762246783661554\n",
      "Epoch: 16 | Epoch Time: 6m 54s\n",
      "\tTrain Loss: 0.722 | Train Acc: 82.09%\n",
      "\t Val. Loss: 0.776 |  Val. Acc: 76.25%\n",
      "best validation loss:  0.7762246783661554\n",
      "Epoch: 17 | Epoch Time: 6m 52s\n",
      "\tTrain Loss: 0.722 | Train Acc: 82.04%\n",
      "\t Val. Loss: 0.778 |  Val. Acc: 76.07%\n",
      "best validation loss:  0.7762246783661554\n",
      "Epoch: 18 | Epoch Time: 6m 53s\n",
      "\tTrain Loss: 0.719 | Train Acc: 82.50%\n",
      "\t Val. Loss: 0.777 |  Val. Acc: 76.17%\n",
      "best validation loss:  0.7762246783661554\n",
      "Epoch: 19 | Epoch Time: 6m 54s\n",
      "\tTrain Loss: 0.717 | Train Acc: 82.71%\n",
      "\t Val. Loss: 0.778 |  Val. Acc: 76.15%\n",
      "best validation loss:  0.7762246783661554\n",
      "Epoch: 20 | Epoch Time: 6m 51s\n",
      "\tTrain Loss: 0.714 | Train Acc: 82.92%\n",
      "\t Val. Loss: 0.779 |  Val. Acc: 76.06%\n",
      "best validation loss:  0.7762246783661554\n",
      "Epoch: 21 | Epoch Time: 6m 49s\n",
      "\tTrain Loss: 0.713 | Train Acc: 83.06%\n",
      "\t Val. Loss: 0.780 |  Val. Acc: 76.07%\n",
      "best validation loss:  0.7762246783661554\n",
      "Epoch: 22 | Epoch Time: 6m 51s\n",
      "\tTrain Loss: 0.712 | Train Acc: 83.16%\n",
      "\t Val. Loss: 0.777 |  Val. Acc: 76.26%\n",
      "best validation loss:  0.7762246783661554\n",
      "Epoch: 23 | Epoch Time: 6m 53s\n",
      "\tTrain Loss: 0.711 | Train Acc: 83.23%\n",
      "\t Val. Loss: 0.777 |  Val. Acc: 76.18%\n",
      "best validation loss:  0.7762246783661554\n",
      "Epoch: 24 | Epoch Time: 6m 52s\n",
      "\tTrain Loss: 0.709 | Train Acc: 83.43%\n",
      "\t Val. Loss: 0.780 |  Val. Acc: 76.13%\n",
      "best validation loss:  0.7762246783661554\n",
      "Epoch: 25 | Epoch Time: 6m 53s\n",
      "\tTrain Loss: 0.709 | Train Acc: 83.57%\n",
      "\t Val. Loss: 0.778 |  Val. Acc: 76.14%\n",
      "best validation loss:  0.7762246783661554\n",
      "Epoch: 26 | Epoch Time: 6m 53s\n",
      "\tTrain Loss: 0.707 | Train Acc: 83.74%\n",
      "\t Val. Loss: 0.777 |  Val. Acc: 76.25%\n",
      "best validation loss:  0.7762246783661554\n",
      "Epoch: 27 | Epoch Time: 6m 57s\n",
      "\tTrain Loss: 0.707 | Train Acc: 83.75%\n",
      "\t Val. Loss: 0.778 |  Val. Acc: 76.17%\n",
      "best validation loss:  0.7762246783661554\n",
      "Epoch: 28 | Epoch Time: 6m 57s\n",
      "\tTrain Loss: 0.705 | Train Acc: 83.92%\n",
      "\t Val. Loss: 0.779 |  Val. Acc: 76.16%\n",
      "best validation loss:  0.7762246783661554\n",
      "Epoch: 29 | Epoch Time: 6m 57s\n",
      "\tTrain Loss: 0.703 | Train Acc: 84.34%\n",
      "\t Val. Loss: 0.779 |  Val. Acc: 76.18%\n",
      "best validation loss:  0.7762246783661554\n",
      "Epoch: 30 | Epoch Time: 6m 58s\n",
      "\tTrain Loss: 0.705 | Train Acc: 83.84%\n",
      "\t Val. Loss: 0.782 |  Val. Acc: 75.78%\n",
      "best validation loss:  0.7762246783661554\n"
     ]
    }
   ],
   "source": [
    "#### Section 12: Train\n",
    "\n",
    "# You need to change this name for each model.\n",
    "modelOutputName = 'LSTM-rnn.pt'\n",
    "\n",
    "N_EPOCHS = 30\n",
    "\n",
    "best_valid_loss = float('inf')\n",
    "\n",
    "epochs_LSTM = []\n",
    "train_accuracy_LSTM = []\n",
    "valid_accuracy_LSTM = []\n",
    "\n",
    "for epoch in range(N_EPOCHS):\n",
    "\n",
    "    start_time = time.time()\n",
    "    \n",
    "    train_loss, train_acc = train(model_adv, train_iterator, optimizer, criterion)\n",
    "    valid_loss, valid_acc = evaluate(model_adv, valid_iterator, criterion)\n",
    "    \n",
    "    epochs_LSTM.append(epoch)\n",
    "    train_accuracy_LSTM.append(train_acc)\n",
    "    valid_accuracy_LSTM.append(valid_acc)\n",
    "    \n",
    "    end_time = time.time()\n",
    "\n",
    "    epoch_mins, epoch_secs = epoch_time(start_time, end_time)\n",
    "    \n",
    "    if valid_loss < best_valid_loss:\n",
    "        best_valid_loss = valid_loss\n",
    "        torch.save(model_adv.state_dict(), modelOutputName)\n",
    "    \n",
    "    print(f'Epoch: {epoch+1:02} | Epoch Time: {epoch_mins}m {epoch_secs}s')\n",
    "    print(f'\\tTrain Loss: {train_loss:.3f} | Train Acc: {train_acc*100:.2f}%')\n",
    "    print(f'\\t Val. Loss: {valid_loss:.3f} |  Val. Acc: {valid_acc*100:.2f}%')\n",
    "    print('best validation loss: ', best_valid_loss)"
   ]
  },
  {
   "cell_type": "code",
   "execution_count": 81,
   "metadata": {},
   "outputs": [
    {
     "data": {
      "text/plain": [
       "<matplotlib.legend.Legend at 0x1a3388c6668>"
      ]
     },
     "execution_count": 81,
     "metadata": {},
     "output_type": "execute_result"
    },
    {
     "data": {
      "image/png": "[encoded data removed]",
      "text/plain": [
       "<Figure size 432x288 with 1 Axes>"
      ]
     },
     "metadata": {
      "needs_background": "light"
     },
     "output_type": "display_data"
    }
   ],
   "source": [
    "#### Section 13: Plots\n",
    "# plot VanillaRNN accuracy\n",
    "ax = plt.figure().gca()\n",
    "plt.plot(epochs, train_accuracy, label='Training Accuracy')\n",
    "plt.plot(epochs, valid_accuracy, label='Validation Accuracy')\n",
    "ax.xaxis.set_major_locator(MaxNLocator(integer=True))\n",
    "plt.xlabel(\"Epoch\")\n",
    "plt.ylabel(\"Accuracy\")\n",
    "plt.title('VanillaRNN Model')\n",
    "plt.legend()"
   ]
  },
  {
   "cell_type": "code",
   "execution_count": 53,
   "metadata": {},
   "outputs": [
    {
     "data": {
      "text/plain": [
       "<matplotlib.legend.Legend at 0x1a341fcaba8>"
      ]
     },
     "execution_count": 53,
     "metadata": {},
     "output_type": "execute_result"
    },
    {
     "data": {
      "image/png": "[encoded data removed]",
      "text/plain": [
       "<Figure size 432x288 with 1 Axes>"
      ]
     },
     "metadata": {
      "needs_background": "light"
     },
     "output_type": "display_data"
    }
   ],
   "source": [
    "# plot LSTM accuracy\n",
    "ax = plt.figure().gca()\n",
    "plt.plot(epochs_LSTM, train_accuracy_LSTM, label='Training Accuracy')\n",
    "plt.plot(epochs_LSTM, valid_accuracy_LSTM, label='Validation Accuracy')\n",
    "ax.xaxis.set_major_locator(MaxNLocator(integer=True))\n",
    "plt.xlabel(\"Epoch\")\n",
    "plt.ylabel(\"Accuracy\")\n",
    "plt.title('LSTM Model')\n",
    "plt.legend()"
   ]
  },
  {
   "cell_type": "code",
   "execution_count": 35,
   "metadata": {},
   "outputs": [
    {
     "name": "stdout",
     "output_type": "stream",
     "text": [
      "Test Loss: 0.776 | Test Acc: 76.09%\n"
     ]
    }
   ],
   "source": [
    "#### Section 14: Test Code\n",
    "\n",
    "# 1. Load a saved model\n",
    "# 2. evaluate against the validation set (you will need to create )\n",
    "\n",
    "'''\n",
    "Instructions: skip the stratified sampling, Section 12 training part and after\n",
    "use model for VanillaRNN\n",
    "use model_adv for LSTM\n",
    "'''\n",
    "model_adv.load_state_dict(torch.load('LSTM-rnn.pt'))\n",
    "# model.load_state_dict(torch.load('vanilla-rnn.pt'))\n",
    "\n",
    "test_loss, test_acc = evaluate(model_adv, test_iterator, criterion)\n",
    "# test_loss, test_acc = evaluate(model, test_iterator, criterion)\n",
    "\n",
    "print(f'Test Loss: {test_loss:.3f} | Test Acc: {test_acc*100:.2f}%')"
   ]
  },
  {
   "cell_type": "code",
   "execution_count": 55,
   "metadata": {},
   "outputs": [],
   "source": [
    "#### Section 15: Application\n",
    "# import spacy\n",
    "import en_core_web_sm\n",
    "nlp = en_core_web_sm.load()\n",
    "\n",
    "BATCH_SIZE = 1\n",
    "\n",
    "def predict_sentiment(model, sentence):\n",
    "    model.eval()\n",
    "    tokenized = [tok.text for tok in nlp.tokenizer(sentence)]\n",
    "    indexed = [TEXT.vocab.stoi[t] for t in tokenized]\n",
    "    length = [len(indexed)]\n",
    "    tensor = torch.LongTensor(indexed).to(device)\n",
    "    tensor = tensor.unsqueeze(1)\n",
    "    length_tensor = torch.LongTensor(length)\n",
    "    print(model(tensor, length_tensor))\n",
    "    \n",
    "    prediction = torch.argmax(torch.exp(model(tensor, length_tensor)), dim=1)\n",
    "    return LABEL.vocab.itos[prediction.item()]"
   ]
  },
  {
   "cell_type": "code",
   "execution_count": 56,
   "metadata": {},
   "outputs": [
    {
     "name": "stdout",
     "output_type": "stream",
     "text": [
      "tensor([[6.9288e-05, 9.9999e-01, 3.9930e-04]], grad_fn=<SigmoidBackward>)\n"
     ]
    },
    {
     "data": {
      "text/plain": [
       "'bad'"
      ]
     },
     "execution_count": 56,
     "metadata": {},
     "output_type": "execute_result"
    }
   ],
   "source": [
    "predict_sentiment(model_adv, \"This film is terrible\")"
   ]
  },
  {
   "cell_type": "code",
   "execution_count": 57,
   "metadata": {},
   "outputs": [
    {
     "name": "stdout",
     "output_type": "stream",
     "text": [
      "tensor([[9.9993e-01, 2.7128e-04, 8.3493e-04]], grad_fn=<SigmoidBackward>)\n"
     ]
    },
    {
     "data": {
      "text/plain": [
       "'good'"
      ]
     },
     "execution_count": 57,
     "metadata": {},
     "output_type": "execute_result"
    }
   ],
   "source": [
    "predict_sentiment(model_adv, \"This film is great\")"
   ]
  }
 ],
 "metadata": {
  "kernelspec": {
   "display_name": "Python 3",
   "language": "python",
   "name": "python3"
  },
  "language_info": {
   "codemirror_mode": {
    "name": "ipython",
    "version": 3
   },
   "file_extension": ".py",
   "mimetype": "text/x-python",
   "name": "python",
   "nbconvert_exporter": "python",
   "pygments_lexer": "ipython3",
   "version": "3.7.1"
  }
 },
 "nbformat": 4,
 "nbformat_minor": 2
}
